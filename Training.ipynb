{
  "nbformat": 4,
  "nbformat_minor": 0,
  "metadata": {
    "colab": {
      "provenance": [],
      "mount_file_id": "11CzlzxP5IfcVzhVfvd9pB1JQN2lzt130",
      "authorship_tag": "ABX9TyMn4m+MAvRWLfjj5EgrRGBW",
      "include_colab_link": true
    },
    "kernelspec": {
      "name": "python3",
      "display_name": "Python 3"
    },
    "language_info": {
      "name": "python"
    }
  },
  "cells": [
    {
      "cell_type": "markdown",
      "metadata": {
        "id": "view-in-github",
        "colab_type": "text"
      },
      "source": [
        "<a href=\"https://colab.research.google.com/github/The237/ANN_Train/blob/main/Training.ipynb\" target=\"_parent\"><img src=\"https://colab.research.google.com/assets/colab-badge.svg\" alt=\"Open In Colab\"/></a>"
      ]
    },
    {
      "cell_type": "code",
      "execution_count": 2,
      "metadata": {
        "id": "fsxwpd3_wLVX"
      },
      "outputs": [],
      "source": [
        "import tensorflow as tf\n",
        "from tensorflow.keras import models, layers\n",
        "import matplotlib.pyplot as plt\n",
        "import numpy as np"
      ]
    },
    {
      "cell_type": "code",
      "source": [
        "IMAGE_SIZE = 256\n",
        "BATCH_SIZE = 32\n",
        "CHANNELS = 3\n",
        "EPOCHS = 50"
      ],
      "metadata": {
        "id": "vkc7uVbw4PtQ"
      },
      "execution_count": 3,
      "outputs": []
    },
    {
      "cell_type": "code",
      "source": [
        "dataset = tf.keras.preprocessing.image_dataset_from_directory(\n",
        "    \"data/PlantVillage\",\n",
        "    shuffle=True,\n",
        "    image_size = (IMAGE_SIZE,IMAGE_SIZE),\n",
        "    batch_size= BATCH_SIZE\n",
        ")"
      ],
      "metadata": {
        "colab": {
          "base_uri": "https://localhost:8080/"
        },
        "id": "X-mFOHvx4TfH",
        "outputId": "8a071303-86a4-4964-8575-cf0e3a80d7c5"
      },
      "execution_count": 5,
      "outputs": [
        {
          "output_type": "stream",
          "name": "stdout",
          "text": [
            "Found 2103 files belonging to 4 classes.\n"
          ]
        }
      ]
    },
    {
      "cell_type": "code",
      "source": [
        "class_names = dataset.class_names"
      ],
      "metadata": {
        "id": "dacEjmon7bbK"
      },
      "execution_count": 6,
      "outputs": []
    },
    {
      "cell_type": "code",
      "source": [
        "n_classes = len(class_names)"
      ],
      "metadata": {
        "id": "2Rin7nb07e5l"
      },
      "execution_count": 7,
      "outputs": []
    },
    {
      "cell_type": "code",
      "source": [
        "def get_dataset_partitions_tf(ds, train_split = .8, val_split = .1, test_split = .1, shuffle = True, shuffle_size = 10000):\n",
        "\n",
        "    ds_size = len(ds)\n",
        "\n",
        "    if shuffle:\n",
        "        ds = ds.shuffle(shuffle_size, seed = 12)\n",
        "\n",
        "    train_size = int(train_split * ds_size)\n",
        "    val_size = int(val_split * ds_size)\n",
        "\n",
        "    train_ds = ds.take(train_size)\n",
        "\n",
        "    val_ds = ds.skip(train_size).take(val_size)\n",
        "    test_ds = ds.skip(train_size).skip(val_size)\n",
        "\n",
        "    return train_ds, val_ds, test_ds"
      ],
      "metadata": {
        "id": "vvqzzbvN7g-A"
      },
      "execution_count": 8,
      "outputs": []
    },
    {
      "cell_type": "code",
      "source": [
        "train_ds, val_ds, test_ds =  get_dataset_partitions_tf(dataset)"
      ],
      "metadata": {
        "id": "KEChXV787niM"
      },
      "execution_count": 9,
      "outputs": []
    },
    {
      "cell_type": "code",
      "source": [
        "# improve program performances by putting images in cache\n",
        "train_ds = train_ds.cache().shuffle(10000).prefetch(buffer_size = tf.data.AUTOTUNE)\n",
        "val_ds = val_ds.cache().shuffle(10000).prefetch(buffer_size = tf.data.AUTOTUNE)\n",
        "test_ds = test_ds.cache().shuffle(10000).prefetch(buffer_size = tf.data.AUTOTUNE)"
      ],
      "metadata": {
        "id": "PAgFR3Rs7twR"
      },
      "execution_count": 10,
      "outputs": []
    },
    {
      "cell_type": "code",
      "source": [
        "# layers to\n",
        "resize_and_rescale = tf.keras.Sequential([\n",
        "    layers.experimental.preprocessing.Resizing(IMAGE_SIZE, IMAGE_SIZE),\n",
        "    layers.experimental.preprocessing.Rescaling(1.0/255)\n",
        "])"
      ],
      "metadata": {
        "id": "ZphCQ2BU7z8w"
      },
      "execution_count": 11,
      "outputs": []
    },
    {
      "cell_type": "code",
      "source": [
        "# layers for\n",
        "data_augmentation = tf.keras.Sequential([\n",
        "    layers.experimental.preprocessing.RandomFlip(\"horizontal_and_vertical\"),\n",
        "    layers.experimental.preprocessing.RandomRotation(.2)\n",
        "])"
      ],
      "metadata": {
        "id": "oOxVql8i7z6Q"
      },
      "execution_count": 12,
      "outputs": []
    },
    {
      "cell_type": "code",
      "source": [
        "input_shape = (BATCH_SIZE, IMAGE_SIZE , IMAGE_SIZE, CHANNELS)\n",
        "\n",
        "model = models.Sequential([\n",
        "    resize_and_rescale,\n",
        "    data_augmentation,\n",
        "\n",
        "    layers.Conv2D(32, kernel_size = (3,3), activation = 'relu', input_shape = input_shape),\n",
        "    layers.MaxPooling2D((2,2)),\n",
        "\n",
        "    layers.Conv2D(64, kernel_size = (3,3) ,activation = 'relu'),\n",
        "    layers.MaxPooling2D((2,2)),\n",
        "\n",
        "    layers.Conv2D(64, kernel_size = (3,3) ,activation = 'relu'),\n",
        "    layers.MaxPooling2D((2,2)),\n",
        "\n",
        "    layers.Conv2D(64, kernel_size = (3,3),activation = 'relu'),\n",
        "    layers.MaxPooling2D((2,2)),\n",
        "\n",
        "    layers.Conv2D(64, kernel_size = (3,3),activation = 'relu'),\n",
        "    layers.MaxPooling2D((2,2)),\n",
        "\n",
        "    layers.Flatten(),\n",
        "    layers.Dense(64, activation = \"relu\"),\n",
        "    layers.Dense(n_classes, activation = \"softmax\")\n",
        "])\n",
        "\n",
        "model.build(input_shape = input_shape)"
      ],
      "metadata": {
        "id": "zoxuMLns7z31"
      },
      "execution_count": 13,
      "outputs": []
    },
    {
      "cell_type": "code",
      "source": [
        "model.summary()"
      ],
      "metadata": {
        "colab": {
          "base_uri": "https://localhost:8080/"
        },
        "id": "17kbX5IY7z09",
        "outputId": "1d88b9f9-919c-4c9b-e4e7-3c33949b6814"
      },
      "execution_count": 14,
      "outputs": [
        {
          "output_type": "stream",
          "name": "stdout",
          "text": [
            "Model: \"sequential_2\"\n",
            "_________________________________________________________________\n",
            " Layer (type)                Output Shape              Param #   \n",
            "=================================================================\n",
            " sequential (Sequential)     (32, 256, 256, 3)         0         \n",
            "                                                                 \n",
            " sequential_1 (Sequential)   (32, 256, 256, 3)         0         \n",
            "                                                                 \n",
            " conv2d (Conv2D)             (32, 254, 254, 32)        896       \n",
            "                                                                 \n",
            " max_pooling2d (MaxPooling2D  (32, 127, 127, 32)       0         \n",
            " )                                                               \n",
            "                                                                 \n",
            " conv2d_1 (Conv2D)           (32, 125, 125, 64)        18496     \n",
            "                                                                 \n",
            " max_pooling2d_1 (MaxPooling  (32, 62, 62, 64)         0         \n",
            " 2D)                                                             \n",
            "                                                                 \n",
            " conv2d_2 (Conv2D)           (32, 60, 60, 64)          36928     \n",
            "                                                                 \n",
            " max_pooling2d_2 (MaxPooling  (32, 30, 30, 64)         0         \n",
            " 2D)                                                             \n",
            "                                                                 \n",
            " conv2d_3 (Conv2D)           (32, 28, 28, 64)          36928     \n",
            "                                                                 \n",
            " max_pooling2d_3 (MaxPooling  (32, 14, 14, 64)         0         \n",
            " 2D)                                                             \n",
            "                                                                 \n",
            " conv2d_4 (Conv2D)           (32, 12, 12, 64)          36928     \n",
            "                                                                 \n",
            " max_pooling2d_4 (MaxPooling  (32, 6, 6, 64)           0         \n",
            " 2D)                                                             \n",
            "                                                                 \n",
            " flatten (Flatten)           (32, 2304)                0         \n",
            "                                                                 \n",
            " dense (Dense)               (32, 64)                  147520    \n",
            "                                                                 \n",
            " dense_1 (Dense)             (32, 4)                   260       \n",
            "                                                                 \n",
            "=================================================================\n",
            "Total params: 277,956\n",
            "Trainable params: 277,956\n",
            "Non-trainable params: 0\n",
            "_________________________________________________________________\n"
          ]
        }
      ]
    },
    {
      "cell_type": "code",
      "source": [
        "model.compile(\n",
        "    optimizer = 'adam',\n",
        "    loss = tf.keras.losses.SparseCategoricalCrossentropy(from_logits = False),\n",
        "    metrics = ['accuracy']\n",
        ")"
      ],
      "metadata": {
        "id": "pboU03Q37zxt"
      },
      "execution_count": 15,
      "outputs": []
    },
    {
      "cell_type": "code",
      "source": [
        "history = model.fit(\n",
        "    train_ds,\n",
        "    epochs= EPOCHS,\n",
        "    batch_size = BATCH_SIZE,\n",
        "    verbose = 1,\n",
        "    validation_data = val_ds\n",
        ")"
      ],
      "metadata": {
        "colab": {
          "base_uri": "https://localhost:8080/"
        },
        "id": "hXoQNHKI8CMg",
        "outputId": "5c20d03c-8bd9-476d-8963-9ba58b1cdc91"
      },
      "execution_count": 16,
      "outputs": [
        {
          "output_type": "stream",
          "name": "stdout",
          "text": [
            "Epoch 1/50\n",
            "52/52 [==============================] - 278s 5s/step - loss: 0.8508 - accuracy: 0.5727 - val_loss: 0.5761 - val_accuracy: 0.7812\n",
            "Epoch 2/50\n",
            "52/52 [==============================] - 260s 5s/step - loss: 0.4045 - accuracy: 0.8329 - val_loss: 0.5482 - val_accuracy: 0.7760\n",
            "Epoch 3/50\n",
            "52/52 [==============================] - 267s 5s/step - loss: 0.2611 - accuracy: 0.8918 - val_loss: 0.2544 - val_accuracy: 0.8958\n",
            "Epoch 4/50\n",
            "52/52 [==============================] - 261s 5s/step - loss: 0.2326 - accuracy: 0.9062 - val_loss: 0.3810 - val_accuracy: 0.8438\n",
            "Epoch 5/50\n",
            "52/52 [==============================] - 269s 5s/step - loss: 0.2352 - accuracy: 0.9129 - val_loss: 0.1804 - val_accuracy: 0.9219\n",
            "Epoch 6/50\n",
            "52/52 [==============================] - 259s 5s/step - loss: 0.1633 - accuracy: 0.9381 - val_loss: 0.2034 - val_accuracy: 0.9271\n",
            "Epoch 7/50\n",
            "52/52 [==============================] - 263s 5s/step - loss: 0.1466 - accuracy: 0.9525 - val_loss: 0.3218 - val_accuracy: 0.8542\n",
            "Epoch 8/50\n",
            "52/52 [==============================] - 261s 5s/step - loss: 0.1404 - accuracy: 0.9489 - val_loss: 0.1613 - val_accuracy: 0.9375\n",
            "Epoch 9/50\n",
            "52/52 [==============================] - 257s 5s/step - loss: 0.1498 - accuracy: 0.9411 - val_loss: 0.1172 - val_accuracy: 0.9583\n",
            "Epoch 10/50\n",
            "52/52 [==============================] - 265s 5s/step - loss: 0.1302 - accuracy: 0.9489 - val_loss: 0.1840 - val_accuracy: 0.9115\n",
            "Epoch 11/50\n",
            "52/52 [==============================] - 258s 5s/step - loss: 0.1493 - accuracy: 0.9465 - val_loss: 0.1593 - val_accuracy: 0.9271\n",
            "Epoch 12/50\n",
            "52/52 [==============================] - 268s 5s/step - loss: 0.1982 - accuracy: 0.9243 - val_loss: 0.1083 - val_accuracy: 0.9635\n",
            "Epoch 13/50\n",
            "52/52 [==============================] - 259s 5s/step - loss: 0.1640 - accuracy: 0.9345 - val_loss: 0.1248 - val_accuracy: 0.9583\n",
            "Epoch 14/50\n",
            "52/52 [==============================] - 266s 5s/step - loss: 0.1308 - accuracy: 0.9513 - val_loss: 0.4340 - val_accuracy: 0.8385\n",
            "Epoch 15/50\n",
            "52/52 [==============================] - 257s 5s/step - loss: 0.1458 - accuracy: 0.9435 - val_loss: 0.1111 - val_accuracy: 0.9688\n",
            "Epoch 16/50\n",
            "52/52 [==============================] - 264s 5s/step - loss: 0.1061 - accuracy: 0.9615 - val_loss: 0.0998 - val_accuracy: 0.9531\n",
            "Epoch 17/50\n",
            "52/52 [==============================] - 257s 5s/step - loss: 0.0997 - accuracy: 0.9663 - val_loss: 0.1073 - val_accuracy: 0.9583\n",
            "Epoch 18/50\n",
            "52/52 [==============================] - 251s 5s/step - loss: 0.1017 - accuracy: 0.9615 - val_loss: 0.0959 - val_accuracy: 0.9635\n",
            "Epoch 19/50\n",
            "52/52 [==============================] - 254s 5s/step - loss: 0.1402 - accuracy: 0.9459 - val_loss: 0.2730 - val_accuracy: 0.8698\n",
            "Epoch 20/50\n",
            "52/52 [==============================] - 256s 5s/step - loss: 0.0907 - accuracy: 0.9700 - val_loss: 0.1642 - val_accuracy: 0.9375\n",
            "Epoch 21/50\n",
            "52/52 [==============================] - 256s 5s/step - loss: 0.1297 - accuracy: 0.9477 - val_loss: 0.1192 - val_accuracy: 0.9479\n",
            "Epoch 22/50\n",
            "52/52 [==============================] - 255s 5s/step - loss: 0.1026 - accuracy: 0.9621 - val_loss: 0.1676 - val_accuracy: 0.9271\n",
            "Epoch 23/50\n",
            "52/52 [==============================] - 254s 5s/step - loss: 0.0965 - accuracy: 0.9651 - val_loss: 0.2017 - val_accuracy: 0.9219\n",
            "Epoch 24/50\n",
            "52/52 [==============================] - 255s 5s/step - loss: 0.0949 - accuracy: 0.9615 - val_loss: 0.4327 - val_accuracy: 0.8594\n",
            "Epoch 25/50\n",
            "52/52 [==============================] - 252s 5s/step - loss: 0.0781 - accuracy: 0.9718 - val_loss: 0.1615 - val_accuracy: 0.9375\n",
            "Epoch 26/50\n",
            "52/52 [==============================] - 255s 5s/step - loss: 0.0870 - accuracy: 0.9645 - val_loss: 0.3276 - val_accuracy: 0.8802\n",
            "Epoch 27/50\n",
            "52/52 [==============================] - 250s 5s/step - loss: 0.0601 - accuracy: 0.9802 - val_loss: 0.0729 - val_accuracy: 0.9635\n",
            "Epoch 28/50\n",
            "52/52 [==============================] - 252s 5s/step - loss: 0.0923 - accuracy: 0.9675 - val_loss: 0.0331 - val_accuracy: 0.9948\n",
            "Epoch 29/50\n",
            "52/52 [==============================] - 255s 5s/step - loss: 0.0643 - accuracy: 0.9814 - val_loss: 0.3824 - val_accuracy: 0.8698\n",
            "Epoch 30/50\n",
            "52/52 [==============================] - 255s 5s/step - loss: 0.0628 - accuracy: 0.9760 - val_loss: 0.2305 - val_accuracy: 0.9167\n",
            "Epoch 31/50\n",
            "52/52 [==============================] - 255s 5s/step - loss: 0.0472 - accuracy: 0.9808 - val_loss: 0.0925 - val_accuracy: 0.9531\n",
            "Epoch 32/50\n",
            "52/52 [==============================] - 252s 5s/step - loss: 0.0626 - accuracy: 0.9754 - val_loss: 0.0626 - val_accuracy: 0.9792\n",
            "Epoch 33/50\n",
            "52/52 [==============================] - 255s 5s/step - loss: 0.0489 - accuracy: 0.9826 - val_loss: 0.2404 - val_accuracy: 0.9115\n",
            "Epoch 34/50\n",
            "52/52 [==============================] - 252s 5s/step - loss: 0.0527 - accuracy: 0.9796 - val_loss: 0.1240 - val_accuracy: 0.9635\n",
            "Epoch 35/50\n",
            "52/52 [==============================] - 254s 5s/step - loss: 0.0508 - accuracy: 0.9796 - val_loss: 0.1296 - val_accuracy: 0.9583\n",
            "Epoch 36/50\n",
            "52/52 [==============================] - 257s 5s/step - loss: 0.0530 - accuracy: 0.9796 - val_loss: 0.0985 - val_accuracy: 0.9740\n",
            "Epoch 37/50\n",
            "52/52 [==============================] - 251s 5s/step - loss: 0.0383 - accuracy: 0.9880 - val_loss: 0.1635 - val_accuracy: 0.9271\n",
            "Epoch 38/50\n",
            "52/52 [==============================] - 254s 5s/step - loss: 0.0374 - accuracy: 0.9850 - val_loss: 0.2369 - val_accuracy: 0.9375\n",
            "Epoch 39/50\n",
            "52/52 [==============================] - 257s 5s/step - loss: 0.1588 - accuracy: 0.9435 - val_loss: 0.0921 - val_accuracy: 0.9583\n",
            "Epoch 40/50\n",
            "52/52 [==============================] - 252s 5s/step - loss: 0.0770 - accuracy: 0.9736 - val_loss: 0.0539 - val_accuracy: 0.9688\n",
            "Epoch 41/50\n",
            "52/52 [==============================] - 253s 5s/step - loss: 0.0359 - accuracy: 0.9868 - val_loss: 0.0532 - val_accuracy: 0.9688\n",
            "Epoch 42/50\n",
            "52/52 [==============================] - 252s 5s/step - loss: 0.0419 - accuracy: 0.9862 - val_loss: 0.0439 - val_accuracy: 0.9792\n",
            "Epoch 43/50\n",
            "52/52 [==============================] - 252s 5s/step - loss: 0.0278 - accuracy: 0.9880 - val_loss: 0.0629 - val_accuracy: 0.9792\n",
            "Epoch 44/50\n",
            "52/52 [==============================] - 254s 5s/step - loss: 0.0392 - accuracy: 0.9850 - val_loss: 0.1306 - val_accuracy: 0.9583\n",
            "Epoch 45/50\n",
            "52/52 [==============================] - 255s 5s/step - loss: 0.0253 - accuracy: 0.9922 - val_loss: 0.1290 - val_accuracy: 0.9688\n",
            "Epoch 46/50\n",
            "52/52 [==============================] - 257s 5s/step - loss: 0.0472 - accuracy: 0.9802 - val_loss: 0.0914 - val_accuracy: 0.9688\n",
            "Epoch 47/50\n",
            "52/52 [==============================] - 255s 5s/step - loss: 0.0339 - accuracy: 0.9910 - val_loss: 0.0395 - val_accuracy: 0.9896\n",
            "Epoch 48/50\n",
            "52/52 [==============================] - 254s 5s/step - loss: 0.0372 - accuracy: 0.9880 - val_loss: 0.3260 - val_accuracy: 0.9167\n",
            "Epoch 49/50\n",
            "52/52 [==============================] - 246s 5s/step - loss: 0.0390 - accuracy: 0.9832 - val_loss: 0.1288 - val_accuracy: 0.9688\n",
            "Epoch 50/50\n",
            "52/52 [==============================] - 249s 5s/step - loss: 0.0270 - accuracy: 0.9904 - val_loss: 0.1495 - val_accuracy: 0.9531\n"
          ]
        }
      ]
    },
    {
      "cell_type": "code",
      "source": [
        "# Save the model\n",
        "import os\n",
        "model_version = max([int(i) for i in os.listdir(\"models\") + [0]]) + 1\n",
        "model.save(f\"models/{model_version}\")"
      ],
      "metadata": {
        "colab": {
          "base_uri": "https://localhost:8080/"
        },
        "id": "82GJqnIv8CJZ",
        "outputId": "aa5c98e2-2cbb-4859-ac9a-9324f3960d5a"
      },
      "execution_count": 19,
      "outputs": [
        {
          "output_type": "stream",
          "name": "stderr",
          "text": [
            "WARNING:absl:Found untraced functions such as _jit_compiled_convolution_op, _jit_compiled_convolution_op, _jit_compiled_convolution_op, _jit_compiled_convolution_op, _jit_compiled_convolution_op while saving (showing 5 of 6). These functions will not be directly callable after loading.\n"
          ]
        }
      ]
    },
    {
      "cell_type": "code",
      "source": [],
      "metadata": {
        "id": "wghu0jQiwVbJ"
      },
      "execution_count": null,
      "outputs": []
    },
    {
      "cell_type": "code",
      "source": [
        "from google.colab import drive\n",
        "drive.mount('/content/drive')"
      ],
      "metadata": {
        "colab": {
          "base_uri": "https://localhost:8080/"
        },
        "id": "lUdMXEOjwa34",
        "outputId": "92096e01-5859-492d-e6c8-5ca162db715b"
      },
      "execution_count": 21,
      "outputs": [
        {
          "output_type": "stream",
          "name": "stdout",
          "text": [
            "Drive already mounted at /content/drive; to attempt to forcibly remount, call drive.mount(\"/content/drive\", force_remount=True).\n"
          ]
        }
      ]
    },
    {
      "cell_type": "code",
      "source": [
        "%cd /content/drive/MyDrive/models"
      ],
      "metadata": {
        "colab": {
          "base_uri": "https://localhost:8080/"
        },
        "id": "zr1HEUGg8CFT",
        "outputId": "ff5fe712-5d9f-4a4a-bae1-871616395948"
      },
      "execution_count": 22,
      "outputs": [
        {
          "output_type": "stream",
          "name": "stdout",
          "text": [
            "/content/drive/MyDrive/models\n"
          ]
        }
      ]
    },
    {
      "cell_type": "code",
      "source": [
        "!zip -r /content/models.zip /content/models/"
      ],
      "metadata": {
        "colab": {
          "base_uri": "https://localhost:8080/"
        },
        "id": "haH99uea0hWY",
        "outputId": "836dfd4d-a838-42ac-ca4a-3ba355cf7c52"
      },
      "execution_count": 27,
      "outputs": [
        {
          "output_type": "stream",
          "name": "stdout",
          "text": [
            "  adding: content/models/ (stored 0%)\n",
            "  adding: content/models/1/ (stored 0%)\n",
            "  adding: content/models/1/variables/ (stored 0%)\n",
            "  adding: content/models/1/variables/variables.index (deflated 67%)\n",
            "  adding: content/models/1/variables/variables.data-00000-of-00001 (deflated 11%)\n",
            "  adding: content/models/1/saved_model.pb (deflated 89%)\n",
            "  adding: content/models/1/assets/ (stored 0%)\n",
            "  adding: content/models/1/fingerprint.pb (stored 0%)\n",
            "  adding: content/models/1/keras_metadata.pb (deflated 93%)\n"
          ]
        }
      ]
    }
  ]
}